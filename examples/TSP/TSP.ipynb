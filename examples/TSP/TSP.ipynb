{
 "cells": [
  {
   "cell_type": "markdown",
   "metadata": {},
   "source": [
    "# 巡回セールスマン問題(TSP)をPyQUBOを用いて解く"
   ]
  },
  {
   "cell_type": "code",
   "execution_count": 15,
   "metadata": {},
   "outputs": [],
   "source": [
    "%matplotlib inline\n",
    "from pyqubo import Array, Placeholder, Spin, solve_qubo, Constraint, OneHotEncInteger\n",
    "import neal\n",
    "import matplotlib.pyplot as plt\n",
    "import networkx as nx\n",
    "import numpy as np\n",
    "import time"
   ]
  },
  {
   "cell_type": "code",
   "execution_count": 16,
   "metadata": {},
   "outputs": [],
   "source": [
    "def plot_city(cities, city_order=None):\n",
    "    n_city = len(cities)\n",
    "    cities_dict = dict(cities)\n",
    "    G = nx.Graph()\n",
    "    for city in cities_dict:\n",
    "        G.add_node(city)\n",
    "        \n",
    "    # draw path\n",
    "    for i in range(n_city):\n",
    "        city_index1 = city_order[i]\n",
    "        city_index2 = city_order[(i+1) % n_city]\n",
    "        G.add_edge(cities[city_index1][0], cities[city_index2][0])\n",
    "\n",
    "    plt.figure(figsize=(3,3))\n",
    "    pos = nx.spring_layout(G)\n",
    "    nx.draw_networkx(G, cities_dict)\n",
    "    plt.axis(\"off\")\n",
    "    plt.show()\n",
    "\n",
    "#都市u,v間の距離を出力\n",
    "def dist(i, j, cities):\n",
    "    pos_i = cities[i][1]\n",
    "    pos_j = cities[j][1]\n",
    "\n",
    "    return np.sqrt((pos_i[0] - pos_j[0])**2 + (pos_i[1] - pos_j[1])**2)"
   ]
  },
  {
   "cell_type": "code",
   "execution_count": 17,
   "metadata": {},
   "outputs": [],
   "source": [
    "# 都市の名前と座標のデータを用意 list[(\"name\", (x, y))]\n",
    "cities = [\n",
    "    (\"a\", (0, 0)),\n",
    "    (\"b\", (1, 3)),\n",
    "    (\"c\", (0, 4)),\n",
    "    (\"d\", (2, 1)),\n",
    "    (\"e\", (4, 0))\n",
    "]\n",
    "#plot_city(cities,{})"
   ]
  },
  {
   "cell_type": "code",
   "execution_count": 18,
   "metadata": {},
   "outputs": [],
   "source": [
    "#都市の数\n",
    "n_city = len(cities)\n",
    "x = Array.create('c', (n_city, n_city), 'BINARY') # x[j,v]：都市vに時刻j"
   ]
  },
  {
   "cell_type": "code",
   "execution_count": 19,
   "metadata": {},
   "outputs": [],
   "source": [
    "# セールスマンは各都市に１度だけ訪問する制約\n",
    "time_const = 0.0\n",
    "for v in range(n_city):\n",
    "    time_const += Constraint((sum(x[j, v] for j in range(n_city)) - 1)**2, label=\"time{}\".format(v))\n",
    "    \n",
    "# ある時刻に1つの都市しか存在しない制約\n",
    "city_const = 0.0\n",
    "for j in range(n_city):\n",
    "    city_const += Constraint((sum(x[j, v] for v in range(n_city)) - 1)**2, label=\"city{}\".format(j))"
   ]
  },
  {
   "cell_type": "code",
   "execution_count": 20,
   "metadata": {},
   "outputs": [],
   "source": [
    "# 経路の総距離を記述\n",
    "distance = 0.0\n",
    "for u in range(n_city):\n",
    "    for v in range(n_city):\n",
    "        for j in range(n_city):\n",
    "            # 時刻jに都市u, 時刻j+1に都市vにいた場合の都市i,j間の距離\n",
    "            d_uv = dist(u, v, cities)\n",
    "            distance += d_uv * x[j, u] * x[(j+1)%n_city, v]\n",
    "            #print((j+1)%n_city)"
   ]
  },
  {
   "cell_type": "code",
   "execution_count": 21,
   "metadata": {},
   "outputs": [],
   "source": [
    "# ハミルトニアンを構築\n",
    "A = Placeholder(\"A\")\n",
    "B = Placeholder(\"B\")\n",
    "H = distance + A * (time_const + city_const)"
   ]
  },
  {
   "cell_type": "code",
   "execution_count": 22,
   "metadata": {},
   "outputs": [],
   "source": [
    "# モデルをコンパイル\n",
    "model = H.compile()"
   ]
  },
  {
   "cell_type": "code",
   "execution_count": 26,
   "metadata": {},
   "outputs": [],
   "source": [
    "# QUBOを作成\n",
    "feed_dict = {'A': 10.0}"
   ]
  },
  {
   "cell_type": "code",
   "execution_count": 27,
   "metadata": {},
   "outputs": [],
   "source": [
    "bqm = model.to_bqm(feed_dict=feed_dict)"
   ]
  },
  {
   "cell_type": "code",
   "execution_count": 28,
   "metadata": {},
   "outputs": [
    {
     "name": "stdout",
     "output_type": "stream",
     "text": [
      "number of broken constarint = 0\n"
     ]
    }
   ],
   "source": [
    "sa = neal.SimulatedAnnealingSampler()\n",
    "sampleset = sa.sample(bqm, num_reads=200, num_sweeps=200)\n",
    "\n",
    "# Decode solution\n",
    "decoded_samples = model.decode_sampleset(sampleset, feed_dict=feed_dict)\n",
    "best_sample = min(decoded_samples, key=lambda x: x.energy)\n",
    "num_broken = len(best_sample.constraints(only_broken=True))\n",
    "print(\"number of broken constarint = {}\".format(num_broken))"
   ]
  },
  {
   "cell_type": "code",
   "execution_count": 29,
   "metadata": {},
   "outputs": [
    {
     "data": {
      "text/plain": [
       "{}"
      ]
     },
     "execution_count": 29,
     "metadata": {},
     "output_type": "execute_result"
    }
   ],
   "source": [
    "best_sample.constraints(only_broken=True)"
   ]
  },
  {
   "cell_type": "code",
   "execution_count": 30,
   "metadata": {},
   "outputs": [
    {
     "data": {
      "text/plain": [
       "dict_items([('c[0][0]', 1), ('c[3][4]', 0), ('c[1][4]', 1), ('c[2][4]', 0), ('c[0][2]', 0), ('c[1][0]', 0), ('c[1][1]', 0), ('c[1][2]', 0), ('c[0][4]', 0), ('c[0][3]', 0), ('c[2][3]', 1), ('c[3][0]', 0), ('c[2][1]', 0), ('c[2][2]', 0), ('c[3][1]', 1), ('c[3][2]', 0), ('c[3][3]', 0), ('c[4][0]', 0), ('c[1][3]', 0), ('c[0][1]', 0), ('c[4][1]', 0), ('c[2][0]', 0), ('c[4][2]', 1), ('c[4][3]', 0), ('c[4][4]', 0)])"
      ]
     },
     "execution_count": 30,
     "metadata": {},
     "output_type": "execute_result"
    }
   ],
   "source": [
    "best_sample.sample.items()"
   ]
  },
  {
   "cell_type": "code",
   "execution_count": null,
   "metadata": {},
   "outputs": [],
   "source": []
  }
 ],
 "metadata": {
  "kernelspec": {
   "display_name": "Python 3",
   "language": "python",
   "name": "python3"
  },
  "language_info": {
   "codemirror_mode": {
    "name": "ipython",
    "version": 3
   },
   "file_extension": ".py",
   "mimetype": "text/x-python",
   "name": "python",
   "nbconvert_exporter": "python",
   "pygments_lexer": "ipython3",
   "version": "3.6.4"
  }
 },
 "nbformat": 4,
 "nbformat_minor": 2
}
