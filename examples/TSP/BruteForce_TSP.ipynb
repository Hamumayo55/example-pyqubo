{
 "cells": [
  {
   "cell_type": "code",
   "execution_count": 1,
   "metadata": {},
   "outputs": [],
   "source": [
    "import itertools\n",
    "import matplotlib.pyplot as plt\n",
    "import networkx as nx\n",
    "import numpy as np\n",
    "import time"
   ]
  },
  {
   "cell_type": "code",
   "execution_count": 2,
   "metadata": {},
   "outputs": [],
   "source": [
    "def make_factorial(city):\n",
    "    memory = []\n",
    "    m = []\n",
    "    for n in range(len(city)):\n",
    "        m.append(city[n][2])\n",
    "    for i in itertools.permutations(m):\n",
    "        memory.append(i)\n",
    "    return memory"
   ]
  },
  {
   "cell_type": "code",
   "execution_count": 3,
   "metadata": {},
   "outputs": [],
   "source": [
    "#都市u,v間の距離を出力\n",
    "def dist(i, j, cities):\n",
    "    pos_i = cities[i][1]\n",
    "    pos_j = cities[j][1]\n",
    "\n",
    "    return np.sqrt((pos_i[0] - pos_j[0])**2 + (pos_i[1] - pos_j[1])**2)"
   ]
  },
  {
   "cell_type": "code",
   "execution_count": 4,
   "metadata": {},
   "outputs": [],
   "source": [
    "def plot_city(cities, city_order=None):\n",
    "    n_city = len(cities)\n",
    "    cities_dict = dict(cities)\n",
    "    G = nx.Graph()\n",
    "    for city in cities_dict:\n",
    "        G.add_node(city)\n",
    "        \n",
    "    # draw path\n",
    "    for i in range(n_city):\n",
    "        city_index1 = city_order[i]\n",
    "        city_index2 = city_order[(i+1) % n_city]\n",
    "        G.add_edge(cities[city_index1][0], cities[city_index2][0])\n",
    "\n",
    "    plt.figure(figsize=(3,3))\n",
    "    pos = nx.spring_layout(G)\n",
    "    nx.draw_networkx(G, cities_dict)\n",
    "    plt.axis(\"off\")\n",
    "    plt.show()"
   ]
  },
  {
   "cell_type": "code",
   "execution_count": 5,
   "metadata": {},
   "outputs": [],
   "source": [
    "# 都市の名前と座標のデータを用意 list[(\"name\", (x, y), index)]\n",
    "cities = [\n",
    "    (\"a\", (0, 0), 0),\n",
    "    (\"b\", (1, 3), 1),\n",
    "    (\"c\", (0, 4), 2),\n",
    "    (\"d\", (2, 1), 3),\n",
    "    (\"e\", (4, 0), 4),\n",
    "    (\"f\", (2, 4), 5),\n",
    "    (\"g\", (-1, 2), 6),\n",
    "    (\"h\", (4, 3), 7),\n",
    "    (\"i\", (5, 2), 8),\n",
    "    (\"j\", (-2, 3), 9)\n",
    "]\n",
    "city = [\n",
    "    (\"a\", (0, 0)),\n",
    "    (\"b\", (1, 3)),\n",
    "    (\"c\", (0, 4)),\n",
    "    (\"d\", (2, 1)),\n",
    "    (\"e\", (4, 0)),\n",
    "    (\"f\", (2, 4)),\n",
    "    (\"g\", (-1, 2)),\n",
    "    (\"h\", (4, 3)),\n",
    "    (\"i\", (5, 2)),\n",
    "    (\"j\", (-2, 3))\n",
    "]\n",
    "n_city = len(city)"
   ]
  },
  {
   "cell_type": "code",
   "execution_count": 6,
   "metadata": {},
   "outputs": [],
   "source": [
    "def cal_distance(vertex):\n",
    "    distance_list = []\n",
    "    for n in range(len(vertex)):\n",
    "        d_uv = 0\n",
    "        for i in range(len(vertex[n])):\n",
    "            d_uv += dist(vertex[n][i], vertex[n][(i+1)%len(vertex[n])], cities)\n",
    "        distance_list.append(d_uv)\n",
    "    return distance_list"
   ]
  },
  {
   "cell_type": "code",
   "execution_count": null,
   "metadata": {},
   "outputs": [],
   "source": [
    "start = time.time()\n",
    "#巡回する経路\n",
    "vertex = make_factorial(cities)\n",
    "#全ての距離を算出\n",
    "distance_list = cal_distance(vertex)\n",
    "#最短経路の算出\n",
    "distance_min = distance_list.index(min(distance_list))\n",
    "process_time = time.time() - start"
   ]
  },
  {
   "cell_type": "code",
   "execution_count": null,
   "metadata": {},
   "outputs": [],
   "source": [
    "city_order = list(vertex[distance_min])\n",
    "plot_city(city, city_order)"
   ]
  },
  {
   "cell_type": "code",
   "execution_count": null,
   "metadata": {},
   "outputs": [],
   "source": [
    "# 処理時間\n",
    "print(process_time)"
   ]
  },
  {
   "cell_type": "code",
   "execution_count": null,
   "metadata": {},
   "outputs": [],
   "source": [
    "vertex[distance_min]"
   ]
  },
  {
   "cell_type": "code",
   "execution_count": null,
   "metadata": {},
   "outputs": [],
   "source": [
    "# 移動距離\n",
    "def output_distance(city_order):\n",
    "    distance = 0\n",
    "    for i in range(n_city):\n",
    "        u = city_order[i]\n",
    "        v = city_order[(i+1) % n_city]\n",
    "    #print(u,v)\n",
    "        distance += dist(u, v, cities)\n",
    "    return distance"
   ]
  },
  {
   "cell_type": "code",
   "execution_count": null,
   "metadata": {},
   "outputs": [],
   "source": [
    "output_distance(vertex[distance_min])"
   ]
  },
  {
   "cell_type": "code",
   "execution_count": null,
   "metadata": {},
   "outputs": [],
   "source": []
  }
 ],
 "metadata": {
  "kernelspec": {
   "display_name": "Python 3",
   "language": "python",
   "name": "python3"
  },
  "language_info": {
   "codemirror_mode": {
    "name": "ipython",
    "version": 3
   },
   "file_extension": ".py",
   "mimetype": "text/x-python",
   "name": "python",
   "nbconvert_exporter": "python",
   "pygments_lexer": "ipython3",
   "version": "3.6.4"
  }
 },
 "nbformat": 4,
 "nbformat_minor": 2
}
